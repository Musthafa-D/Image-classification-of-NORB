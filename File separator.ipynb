{
 "cells": [
  {
   "cell_type": "code",
   "execution_count": 74,
   "id": "e7df3337",
   "metadata": {},
   "outputs": [
    {
     "name": "stdout",
     "output_type": "stream",
     "text": [
      "Done!\n"
     ]
    }
   ],
   "source": [
    "import os\n",
    "import shutil\n",
    "\n",
    "# Set the directory where the images are located\n",
    "source_dir = r\"C:\\\\Users\\\\user\\\\Image Classification of Norb Dataset\\\\Norb_10\\\\train_10\"\n",
    "\n",
    "# Set the directory where you want to move the images\n",
    "dest_dir = r\"C:\\\\Users\\user\\\\Image Classification of Norb Dataset\\\\Norb_10\\\\class_train_10\\\\truck\"\n",
    "\n",
    "# Set the common word that you want to search for in the image names\n",
    "common_word = \"truck\"\n",
    "\n",
    "# Get a list of all files in the source directory\n",
    "files = os.listdir(source_dir)\n",
    "\n",
    "# Iterate through the list of files\n",
    "for file in files:\n",
    "  # Check if the common word is in the file name\n",
    "  if common_word in file:\n",
    "    # Construct the full path to the file\n",
    "    source_path = os.path.join(source_dir, file)\n",
    "    # Construct the full path to the destination\n",
    "    dest_path = os.path.join(dest_dir, file)\n",
    "    # Move the file to the destination\n",
    "    shutil.move(source_path, dest_path)\n",
    "\n",
    "print(\"Done!\")\n"
   ]
  },
  {
   "cell_type": "code",
   "execution_count": null,
   "id": "55d36ee8",
   "metadata": {},
   "outputs": [],
   "source": []
  },
  {
   "cell_type": "code",
   "execution_count": null,
   "id": "09be0efd",
   "metadata": {},
   "outputs": [],
   "source": []
  }
 ],
 "metadata": {
  "kernelspec": {
   "display_name": "Python 3 (ipykernel)",
   "language": "python",
   "name": "python3"
  },
  "language_info": {
   "codemirror_mode": {
    "name": "ipython",
    "version": 3
   },
   "file_extension": ".py",
   "mimetype": "text/x-python",
   "name": "python",
   "nbconvert_exporter": "python",
   "pygments_lexer": "ipython3",
   "version": "3.9.13"
  }
 },
 "nbformat": 4,
 "nbformat_minor": 5
}
